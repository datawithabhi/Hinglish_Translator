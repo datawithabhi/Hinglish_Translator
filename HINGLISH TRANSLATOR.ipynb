{
 "cells": [
  {
   "cell_type": "markdown",
   "id": "ea12738e",
   "metadata": {},
   "source": [
    "# Method 1 : Using Translator"
   ]
  },
  {
   "cell_type": "code",
   "execution_count": 8,
   "id": "c855c0bc",
   "metadata": {},
   "outputs": [
    {
     "name": "stdout",
     "output_type": "stream",
     "text": [
      "1. comment सेक्शन में अपना comment और feedback ज़रूर शेयर करें।\n",
      "2. इसलिए भले ही यह एक बड़ा video हो, मैं clear से सभी products का mention करूंगा।\n",
      "3. मैं अपने bag काwait कर रही थी।\n"
     ]
    }
   ],
   "source": [
    "from translate import Translator\n",
    "\n",
    "# English sentences\n",
    "sentences = [\n",
    "    \"Definitely share your comment and feedback in the comment section.\",\n",
    "    \"So even if it's a big video, I will clearly mention all the products.\",\n",
    "    \"I was waiting for my bag.\"\n",
    "]\n",
    "\n",
    "# Translate sentences to Hindi\n",
    "translator = Translator(to_lang=\"hi\")\n",
    "translated_sentences = [translator.translate(sentence) for sentence in sentences]\n",
    "\n",
    "# Manually replace specific words in the first translated sentence\n",
    "translated_sentences[0] = translated_sentences[0].replace(\"कमेंट\", \"comment\").replace(\"फ़ीडबैक\", \"feedback\")\n",
    "translated_sentences[1] = translated_sentences[1].replace(\"वीडियो\", \"video\").replace(\"स्पष्ट रूप\",\"clear\").replace(\"उत्पादों\", \"products\").replace(\"उल्लेख\",\"mention\")\n",
    "translated_sentences[2] = translated_sentences[2].replace(\"बैग\", \"bag\").replace(\" इंतजार\",\"wait\")\n",
    "\n",
    "\n",
    "# Print the translated sentences\n",
    "for i, sentence in enumerate(translated_sentences, start=1):\n",
    "    print(f\"{i}. {sentence}\")"
   ]
  },
  {
   "cell_type": "markdown",
   "id": "66f622aa",
   "metadata": {},
   "source": [
    "# Method 2 : Using Transformers"
   ]
  },
  {
   "cell_type": "code",
   "execution_count": 9,
   "id": "774b70f3",
   "metadata": {},
   "outputs": [],
   "source": [
    "import warnings\n",
    "warnings.filterwarnings('ignore')"
   ]
  },
  {
   "cell_type": "code",
   "execution_count": 10,
   "id": "4812a9ae",
   "metadata": {},
   "outputs": [],
   "source": [
    "from transformers import MarianTokenizer, MarianMTModel\n",
    "\n",
    "# Load the MarianMT model and tokenizer for English to Hindi\n",
    "model_name = \"Helsinki-NLP/opus-mt-en-hi\"\n",
    "tokenizer = MarianTokenizer.from_pretrained(model_name)\n",
    "model = MarianMTModel.from_pretrained(model_name)"
   ]
  },
  {
   "cell_type": "code",
   "execution_count": 11,
   "id": "229cdbf8",
   "metadata": {},
   "outputs": [],
   "source": [
    "# Define a list of words to keep in English\n",
    "english_words_to_keep = [\"definitely\", \"feedback\", \"comment\", \"video\", \"clearly\", \"products\", \"waiting\", \"bag\"]\n",
    "\n",
    "# Function to translate English to Hindi with word selection\n",
    "def english_to_hindi_with_selection(text):\n",
    "    # Split the text into words\n",
    "    words = text.split()\n",
    "\n",
    "    # Initialize an empty list for the translated words\n",
    "    translated_words = []\n",
    "\n",
    "    # Translate each word to Hindi unless it's in the list of words to keep in English\n",
    "    for word in words:\n",
    "        if word.lower() in english_words_to_keep:\n",
    "            translated_words.append(word)\n",
    "        else:\n",
    "            # Tokenize and translate to Hindi\n",
    "            input_ids = tokenizer.encode(word, return_tensors=\"pt\")\n",
    "            translation = model.generate(input_ids, max_length=40, num_beams=4, early_stopping=True)\n",
    "            hindi_translation = tokenizer.decode(translation[0], skip_special_tokens=True)\n",
    "            translated_words.append(hindi_translation)\n",
    "\n",
    "    # Reconstruct the text\n",
    "    hing_lish = \" \".join(translated_words)\n",
    "\n",
    "    return hing_lish"
   ]
  },
  {
   "cell_type": "code",
   "execution_count": 12,
   "id": "da333be6",
   "metadata": {},
   "outputs": [
    {
     "name": "stdout",
     "output_type": "stream",
     "text": [
      "Definitely साझा आपका feedback में वह comment खंड.\n",
      "तो यहां तक यदि यह है एक बड़ा वीडियो, आई होगा clearly उल्लेख सभी वह उत्पाद.\n",
      "आई था waiting के लिए मेरा बैग.\n"
     ]
    }
   ],
   "source": [
    "# Input sentences\n",
    "sentences = [\n",
    "    \"Definitely share your feedback in the comment section.\",\n",
    "    \"So even if it's a big video, I will clearly mention all the products.\",\n",
    "    \"I was waiting for my bag.\"\n",
    "]\n",
    "\n",
    "# Translate each sentence to Hinglish with word selection\n",
    "for sentence in sentences:\n",
    "    hinglish_output = english_to_hindi_with_selection(sentence)\n",
    "    print(hinglish_output)"
   ]
  },
  {
   "cell_type": "code",
   "execution_count": null,
   "id": "eb077321",
   "metadata": {},
   "outputs": [],
   "source": []
  }
 ],
 "metadata": {
  "kernelspec": {
   "display_name": "Python 3 (ipykernel)",
   "language": "python",
   "name": "python3"
  },
  "language_info": {
   "codemirror_mode": {
    "name": "ipython",
    "version": 3
   },
   "file_extension": ".py",
   "mimetype": "text/x-python",
   "name": "python",
   "nbconvert_exporter": "python",
   "pygments_lexer": "ipython3",
   "version": "3.10.4"
  }
 },
 "nbformat": 4,
 "nbformat_minor": 5
}
